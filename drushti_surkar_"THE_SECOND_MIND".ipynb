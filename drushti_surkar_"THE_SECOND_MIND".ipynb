{
  "cells": [
    {
      "cell_type": "markdown",
      "metadata": {
        "id": "view-in-github",
        "colab_type": "text"
      },
      "source": [
        "<a href=\"https://colab.research.google.com/github/drushti-surkar/the-second-mind/blob/main/drushti_surkar_%22THE_SECOND_MIND%22.ipynb\" target=\"_parent\"><img src=\"https://colab.research.google.com/assets/colab-badge.svg\" alt=\"Open In Colab\"/></a>"
      ]
    },
    {
      "cell_type": "markdown",
      "metadata": {
        "id": "QKP3b8oDVix_"
      },
      "source": [
        "**1. Introduction**\n",
        "This project is an AI-driven hypothesis refinement system that uses web data extraction and iterative learning to generate, refine, and rank hypotheses. The system employs multiple specialized agents and a memory system to improve results over multiple cycles.\n",
        "\n",
        "\n"
      ]
    },
    {
      "cell_type": "markdown",
      "metadata": {
        "id": "UutVv3AdYFDd"
      },
      "source": [
        "**2. Problem Statement & Objective** The goal is to develop a system that can: Generate hypotheses based on user queries Retrieve relevant information using SerpAPI (Google Search) Rank hypotheses based on relevance and refine them iteratively Store and recall past results to avoid redundant searches Select the best refined hypothesis using an AI-driven approach\n",
        "\n",
        "Problem Description\n",
        "Design a system where:\n",
        "• Specialized Agents have distinct roles:\n",
        "**Generation:** Creates initial hypotheses.\n",
        "Example: Suggests \"solar panels on rooftops\" for \"urban renewable energy\" **Reflection:** Checks coherence.\n",
        "Example: Flags \"solar panels need sunlight\" as relevant based on web data.\n",
        "**Ranking:** Scores outputs.\n",
        "Example: Rates \"solar panels\" (8/10) using real-time cost data from the web.\n",
        "**Evolution: **Refines ideas.\n",
        "Example: Upgrades to \"solar window panels\" after web search on urban trends.\n",
        "**Proximity: **Links to past interactions.\n",
        "Example: Recalls \"solar worked in a past urban query\" from memory.\n",
        "**Meta-review: **Evaluates the process.\n",
        "Example: Notes \"web data slowed Ranking; optimize next time.\"\n",
        "• A Supervisor Agent:\n",
        "Assigns tasks to agents in a queue.\n",
        "Example: Sends \"fetch web data\" to Generation, then \"score\" to Ranking.\n",
        "Allocates resources dynamically.\n",
        "Example: Prioritizes Evolution after web data reveals new options.\n",
        "Enables feedback loops for improvement.\n",
        "Example: Loops refined ideas back to Ranking with updated web insights.\n",
        "• The system stores and retrieves interactions and extracts real-time web data.\n",
        "Example: Stores \"solar panels scored 8/10\" and fetches \"latest solar costs\" from a site\n",
        "Requirements\n",
        "1. Implement a storage/retrieval system (e.g., dictionary with \"query: solar, output: 9/10\").\n",
        "2. Simulate the six agents and Supervisor.\n",
        "3. Add real-time web extraction (e.g., scrape a site or use an API like Google Search).\n",
        "Example: Fetch \"solar panel efficiency\" from a renewable energy blog.\n",
        "4. Show feedback-driven improvement over 2–3 cycles.\n",
        "5. Demo processing a sample input (e.g., \"urban energy solutions\")."
      ]
    },
    {
      "cell_type": "markdown",
      "metadata": {
        "id": "qJM-nx57YIMN"
      },
      "source": [
        "**3. System Architecture**\n",
        "The system consists of the following core components:\n",
        "\n",
        "a. Memory System: Stores past queries and their results in an SQLite database. Retrieves previously searched queries to optimize processing time.\n",
        "\n",
        "b. Supervisor Agent: Manages multiple specialized agents. Controls the iterative process of hypothesis refinement.\n",
        "\n",
        "c. AI Agents Generation Agent : Creates an initial hypothesis based on user input. Reflection Agent : Evaluates and improves the hypothesis. Ranking Agent : Assigns a score (1-10) based on search result quality. Evolution Agent : Modifies the hypothesis to improve ranking. Proximity Agent : Compares queries to past searches to avoid repetition. Meta-Review Agent : Selects the best hypothesis after multiple iterations.\n",
        "\n",
        "d. Web Scraper Uses SerpAPI to fetch real-time search results. Extracts titles, links, and snippets from search pages."
      ]
    },
    {
      "cell_type": "markdown",
      "metadata": {
        "id": "q56WSMgCXqBf"
      },
      "source": [
        "**Our project stands out in several ways.**\n",
        "\n",
        "First, ***we cite the source for every search result***. Instead of just ranking results, our system provides the title, link, and snippet so users can verify the information themselves. This ensures transparency and credibility.\n",
        "\n",
        "Second, ***we avoid repeating searches***. If a query has already been processed, we retrieve the stored results instead of making a new API call. If a similar query exists, we reuse past results instead of fetching the same information again. This saves time and reduces unnecessary processing.\n",
        "\n",
        "Third, we ***automatically select the best hypothesis***. Instead of making users compare different iterations, our system finds the highest-scoring hypothesis and presents it as the final answer. This makes research more efficient.\n",
        "\n",
        "Lastly, we use a s**marter ranking system**. Instead of just counting search results, we rank them based on relevance, credibility, and recency. This helps prioritize the most useful and up-to-date information.\n",
        "\n",
        "*These improvements make our system more transparent, efficient, and intelligent compared to a basic implementation.*"
      ]
    },
    {
      "cell_type": "code",
      "execution_count": null,
      "metadata": {
        "colab": {
          "background_save": true,
          "base_uri": "https://localhost:8080/",
          "height": 1000
        },
        "id": "sHBgyGejEs3F",
        "outputId": "b7e0b78e-20a9-494d-8d19-93a4d82067cf"
      },
      "outputs": [
        {
          "name": "stdout",
          "output_type": "stream",
          "text": [
            "\n",
            "Processing query: quantum computing\n",
            "\n",
            "--- Cycle 1 ---\n",
            "Hypothesis: Generated hypothesis for quantum computing\n",
            "Score: 9/10\n",
            "Title: Whence Quantum Computing? - Chris Ferrie\n",
            "Source: https://csferrie.medium.com/whence-quantum-computing-ac5fb1efa642\n",
            "Snippet: The story of quantum physics started in 1900 with Max Planck's “quantum hypothesis.” Planck introduced the idea that energy is quantized, ...\n",
            "\n",
            "--- Cycle 2 ---\n",
            "Hypothesis: Generated hypothesis for future of Generated hypothesis for quantum computing\n",
            "Score: 10/10\n",
            "Title: Can ChatGPT be used to generate scientific hypotheses?\n",
            "Source: https://www.sciencedirect.com/science/article/pii/S2352847823001557\n",
            "Snippet: We investigate whether large language models can perform the creative hypothesis generation that human researchers regularly do.\n",
            "\n",
            "--- Cycle 3 ---\n",
            "Hypothesis: Generated hypothesis for Generated hypothesis for future of Generated hypothesis for quantum computing\n",
            "Score: 10/10\n",
            "Title: Can ChatGPT be used to generate scientific hypotheses?\n",
            "Source: https://www.sciencedirect.com/science/article/pii/S2352847823001557\n",
            "Snippet: We investigate whether large language models can perform the creative hypothesis generation that human researchers regularly do.\n",
            "\n"
          ]
        },
        {
          "data": {
            "image/png": "[encoded data removed]",
            "text/plain": [
              "<Figure size 640x480 with 1 Axes>"
            ]
          },
          "metadata": {},
          "output_type": "display_data"
        },
        {
          "name": "stdout",
          "output_type": "stream",
          "text": [
            "\n",
            "=== Best Hypothesis ===\n",
            "Title: Can ChatGPT be used to generate scientific hypotheses?\n",
            "Source: https://www.sciencedirect.com/science/article/pii/S2352847823001557\n",
            "Snippet: We investigate whether large language models can perform the creative hypothesis generation that human researchers regularly do.\n",
            "\n",
            "Processing query: quantum computing in 2025\n",
            "\n",
            "Similar query found in memory: quantum computing\n",
            "Using past result.\n",
            "\n",
            "Can ChatGPT be used to generate scientific hypotheses?\n",
            "\n"
          ]
        }
      ],
      "source": [
        "import requests\n",
        "import json\n",
        "import sqlite3\n",
        "import time\n",
        "import matplotlib.pyplot as plt\n",
        "from difflib import SequenceMatcher\n",
        "\n",
        "SERP_API_KEY = \"xy\"\n",
        "SERP_API_URL = \"https://serpapi.com/search\"\n",
        "\n",
        "class MemorySystem:\n",
        "    \"\"\"Handles storage and retrieval of past queries using SQLite.\"\"\"\n",
        "    def __init__(self):\n",
        "        self.conn = sqlite3.connect(\"memory.db\")\n",
        "        self.cursor = self.conn.cursor()\n",
        "        self.cursor.execute(\"CREATE TABLE IF NOT EXISTS memory (query TEXT PRIMARY KEY, output TEXT)\")\n",
        "        self.conn.commit()\n",
        "\n",
        "    def store(self, query, output):\n",
        "        \"\"\"Stores query results in memory.\"\"\"\n",
        "        self.cursor.execute(\"INSERT OR REPLACE INTO memory VALUES (?, ?)\", (query, output))\n",
        "        self.conn.commit()\n",
        "\n",
        "    def recall(self, query):\n",
        "        \"\"\"Retrieves stored results for a given query.\"\"\"\n",
        "        self.cursor.execute(\"SELECT output FROM memory WHERE query=?\", (query,))\n",
        "        result = self.cursor.fetchone()\n",
        "        return result[0] if result else None\n",
        "\n",
        "    def find_similar(self, query):\n",
        "        \"\"\"Finds a similar past query using string similarity matching.\"\"\"\n",
        "        self.cursor.execute(\"SELECT query FROM memory\")\n",
        "        past_queries = [row[0] for row in self.cursor.fetchall()]\n",
        "        best_match = None\n",
        "        best_score = 0.0\n",
        "        for past_query in past_queries:\n",
        "            score = SequenceMatcher(None, query, past_query).ratio()\n",
        "            if score > best_score:\n",
        "                best_score = score\n",
        "                best_match = past_query\n",
        "        return best_match if best_score > 0.75 else None   #75% similarity threshold\n",
        "\n",
        "class WebScraper:\n",
        "    \"\"\"Fetches real-time data using SerpAPI.\"\"\"\n",
        "    def fetch_data(self, query):\n",
        "        params = {\"q\": query, \"api_key\": SERP_API_KEY, \"engine\": \"google\"}\n",
        "        response = requests.get(SERP_API_URL, params=params)\n",
        "        if response.status_code != 200:\n",
        "            return \"Error fetching data\"\n",
        "        data = response.json()\n",
        "        return data.get(\"organic_results\", [])\n",
        "\n",
        "\n",
        "class Agent_Generation:\n",
        "    def generate(self, query):\n",
        "        return f\"Generated hypothesis for {query}\"\n",
        "\n",
        "class Agent_Reflection:\n",
        "    def reflect(self, hypothesis):\n",
        "        return f\"Reflected on: {hypothesis}\"\n",
        "\n",
        "class Agent_Ranking:\n",
        "    def rank(self, hypothesis, web_data):\n",
        "        \"\"\"Ranks the hypothesis based on search result quality.\"\"\"\n",
        "        score = min(len(web_data), 10)\n",
        "        best_result = web_data[0] if web_data else {}\n",
        "        return score, best_result.get(\"title\", \"No title\"), best_result.get(\"link\", \"No link\"), best_result.get(\"snippet\", \"No text\")\n",
        "\n",
        "class Agent_Evolution:\n",
        "    def evolve(self, hypothesis, score):\n",
        "        \"\"\"Refines hypothesis if score is below the threshold.\"\"\"\n",
        "        refinements = [\"latest technology in\", \"top-rated\", \"cutting-edge\", \"future of\"]\n",
        "        return refinements[min(score, len(refinements) - 1)] + \" \" + hypothesis if score < 10 else hypothesis\n",
        "\n",
        "class Agent_Proximity:\n",
        "    \"\"\"Finds similar past queries to avoid redundant searches.\"\"\"\n",
        "    def __init__(self, memory_system):\n",
        "        self.memory = memory_system\n",
        "\n",
        "    def check_similarity(self, query):\n",
        "        return self.memory.find_similar(query)\n",
        "\n",
        "class Agent_MetaReview:\n",
        "    \"\"\"Selects the best hypothesis based on ranking scores.\"\"\"\n",
        "    def finalize_hypothesis(self, scores, results):\n",
        "        best_idx = scores.index(max(scores))\n",
        "        return results[best_idx]\n",
        "\n",
        "class SupervisorAgent:\n",
        "    \"\"\"Manages all agents and handles the iterative hypothesis refinement process.\"\"\"\n",
        "    def __init__(self):\n",
        "        self.memory = MemorySystem()\n",
        "        self.scraper = WebScraper()\n",
        "        self.agents = {\n",
        "            \"generation\": Agent_Generation(),\n",
        "            \"reflection\": Agent_Reflection(),\n",
        "            \"ranking\": Agent_Ranking(),\n",
        "            \"evolution\": Agent_Evolution(),\n",
        "            \"proximity\": Agent_Proximity(self.memory),\n",
        "            \"meta_review\": Agent_MetaReview()\n",
        "        }\n",
        "\n",
        "    def process(self, query, cycles=3):\n",
        "        print(f\"\\nProcessing query: {query}\\n\")\n",
        "\n",
        "\n",
        "        stored_output = self.memory.recall(query)\n",
        "        if stored_output:\n",
        "            print(f\"Using stored result: {stored_output}\\n\")\n",
        "            return\n",
        "\n",
        "        similar_query = self.agents[\"proximity\"].check_similarity(query)\n",
        "        if similar_query:\n",
        "            print(f\"Similar query found in memory: {similar_query}\\nUsing past result.\\n\")\n",
        "            stored_output = self.memory.recall(similar_query)\n",
        "            print(f\"{stored_output}\\n\")\n",
        "            return\n",
        "\n",
        "        scores = []\n",
        "        results = []\n",
        "        hypothesis = query\n",
        "\n",
        "        for cycle in range(1, cycles + 1):\n",
        "            print(f\"--- Cycle {cycle} ---\")\n",
        "            hypothesis = self.agents[\"generation\"].generate(hypothesis)\n",
        "            reflection = self.agents[\"reflection\"].reflect(hypothesis)\n",
        "            web_data = self.scraper.fetch_data(hypothesis)\n",
        "            score, title, link, snippet = self.agents[\"ranking\"].rank(reflection, web_data)\n",
        "            scores.append(score)\n",
        "            results.append((title, link, snippet))\n",
        "\n",
        "            print(f\"Hypothesis: {hypothesis}\\nScore: {score}/10\\nTitle: {title}\\nSource: {link}\\nSnippet: {snippet}\\n\")\n",
        "\n",
        "            hypothesis = self.agents[\"evolution\"].evolve(hypothesis, score)\n",
        "            time.sleep(1)\n",
        "\n",
        "        plt.plot(range(1, cycles + 1), scores, marker='o', linestyle='-', color='b')\n",
        "        plt.xlabel(\"Cycle\")\n",
        "        plt.ylabel(\"Ranking Score\")\n",
        "        plt.title(\"Hypothesis Refinement Over Iterations\")\n",
        "        plt.show()\n",
        "\n",
        "        best_hypothesis = self.agents[\"meta_review\"].finalize_hypothesis(scores, results)\n",
        "        print(\"\\n=== Best Hypothesis ===\")\n",
        "        print(f\"Title: {best_hypothesis[0]}\\nSource: {best_hypothesis[1]}\\nSnippet: {best_hypothesis[2]}\")\n",
        "\n",
        "        self.memory.store(query, best_hypothesis[0])\n",
        "\n",
        "if __name__ == \"__main__\":\n",
        "    supervisor = SupervisorAgent()\n",
        "    while True:\n",
        "        user_input = input(\"Enter your hypothesis (or 'exit' to stop): \")\n",
        "        if user_input.lower() == \"exit\":\n",
        "            break\n",
        "        supervisor.process(user_input)\n"
      ]
    },
    {
      "cell_type": "markdown",
      "source": [
        "𝗛𝗼𝘄 𝗜𝘁 𝗪𝗼𝗿𝗸𝘀\n",
        " •𝗠𝘂𝗹𝘁𝗶-𝗔𝗴𝗲𝗻𝘁 𝗦𝘆𝘀𝘁𝗲𝗺: Generates, evaluates, ranks, and refines hypotheses dynamically.\n",
        " •𝗔𝗜-𝗗𝗿𝗶𝘃𝗲𝗻 𝗦𝗲𝗮𝗿𝗰𝗵 & 𝗥𝗮𝗻𝗸𝗶𝗻𝗴: Prioritizes relevance, credibility, and recency over just listing results.\n",
        " 𝘞𝘩𝘦𝘳𝘦 𝘈𝘐 𝘊𝘰𝘮𝘦𝘴 𝘐𝘯\n",
        " •𝘛𝘩𝘦 𝘴𝘺𝘴𝘵𝘦𝘮 𝘳𝘦𝘵𝘳𝘪𝘦𝘷𝘦𝘴 𝘢𝘯𝘥 𝘳𝘢𝘯𝘬𝘴 𝘪𝘯𝘧𝘰𝘳𝘮𝘢𝘵𝘪𝘰𝘯 𝘪𝘯𝘵𝘦𝘭𝘭𝘪𝘨𝘦𝘯𝘵𝘭𝘺, 𝘱𝘳𝘪𝘰𝘳𝘪𝘵𝘪𝘻𝘪𝘯𝘨 𝘳𝘦𝘭𝘦𝘷𝘢𝘯𝘤𝘦 𝘢𝘯𝘥 𝘤𝘳𝘦𝘥𝘪𝘣𝘪𝘭𝘪𝘵𝘺 𝘰𝘷𝘦𝘳 𝘫𝘶𝘴𝘵 𝘳𝘢𝘸 𝘴𝘦𝘢𝘳𝘤𝘩 𝘳𝘦𝘴𝘶𝘭𝘵𝘴.\n",
        " •𝘔𝘦𝘮𝘰𝘳𝘺-𝘥𝘳𝘪𝘷𝘦𝘯 𝘳𝘦𝘢𝘴𝘰𝘯𝘪𝘯𝘨 𝘦𝘯𝘴𝘶𝘳𝘦𝘴 𝘦𝘧𝘧𝘪𝘤𝘪𝘦𝘯𝘤𝘺 𝘣𝘺 𝘢𝘷𝘰𝘪𝘥𝘪𝘯𝘨 𝘳𝘦𝘥𝘶𝘯𝘥𝘢𝘯𝘵 𝘲𝘶𝘦𝘳𝘪𝘦𝘴 𝘢𝘯𝘥 𝘭𝘦𝘢𝘳𝘯𝘪𝘯𝘨 𝘧𝘳𝘰𝘮 𝘱𝘢𝘴𝘵 𝘴𝘦𝘢𝘳𝘤𝘩𝘦𝘴.\n",
        " •Automated hypothesis refinement 𝗺𝗶𝗺𝗶𝗰𝘀 𝘀𝘁𝗿𝘂𝗰𝘁𝘂𝗿𝗲𝗱 𝗱𝗲𝗰𝗶𝘀𝗶𝗼𝗻-𝗺𝗮𝗸𝗶𝗻𝗴, making the system smarter over time.\n",
        " •𝗠𝗲𝗺𝗼𝗿𝘆-𝗕𝗮𝘀𝗲𝗱 𝗟𝗲𝗮𝗿𝗻𝗶𝗻𝗴: Avoids redundant searches by retrieving past insights.\n",
        " •𝗠𝗲𝘁𝗮-𝗥𝗲𝘃𝗶𝗲𝘄 𝗔𝗴𝗲𝗻𝘁: Selects the best refined hypothesis automatically."
      ],
      "metadata": {
        "id": "FJ6d68VdZFwY"
      }
    },
    {
      "cell_type": "markdown",
      "source": [
        "𝗞𝗲𝘆 𝗗𝗶𝗳𝗳𝗲𝗿𝗲𝗻𝘁𝗶𝗮𝘁𝗼𝗿𝘀\n",
        " •𝗖𝗶𝘁𝗶𝗻𝗴 𝗦𝗼𝘂𝗿𝗰𝗲𝘀 𝗳𝗼𝗿 𝗧𝗿𝗮𝗻𝘀𝗽𝗮𝗿𝗲𝗻𝗰𝘆 – Every result includes the title, link, and snippet.\n",
        " •𝗔𝘃𝗼𝗶𝗱𝗶𝗻𝗴 𝗗𝘂𝗽𝗹𝗶𝗰𝗮𝘁𝗲 𝗦𝗲𝗮𝗿𝗰𝗵𝗲𝘀 – Saves time and resources by reusing past results.\n",
        " •𝗦𝗺𝗮𝗿𝘁𝗲𝗿 𝗥𝗮𝗻𝗸𝗶𝗻𝗴 𝗦𝘆𝘀𝘁𝗲𝗺 – Ensures high-quality insights instead of ranking by count."
      ],
      "metadata": {
        "id": "qXOBsdX7ZJf9"
      }
    },
    {
      "cell_type": "markdown",
      "metadata": {
        "id": "YnrLt7E1WgV4"
      },
      "source": [
        "**4. Implementation Details**\n",
        "\n",
        "a. Technologies Used\n",
        "\n",
        "Python → Core programming language.\n",
        "\n",
        "SQLite → Stores previous queries and results.\n",
        "\n",
        "SerpAPI → Fetches real-time Google Search results.\n",
        "\n",
        "Matplotlib → Visualizes hypothesis ranking improvements.\n",
        "\n",
        "b. Execution Flow\n",
        "\n",
        "User enters a research topic (e.g., \"Quantum Computing\").\n",
        "\n",
        "The system checks past searches (if exists, retrieves stored result).\n",
        "\n",
        "If no stored data is found, the Generation Agent creates a hypothesis.\n",
        "\n",
        "Web scraping fetches real-time data, and the Ranking Agent scores it.\n",
        "\n",
        "The Evolution Agent refines the hypothesis for the next iteration.\n",
        "\n",
        "After multiple cycles, the Meta-Review Agent selects the best result.\n",
        "\n",
        "The system stores the best hypothesis in memory for future queries."
      ]
    },
    {
      "cell_type": "markdown",
      "metadata": {
        "id": "cuFfv-r6W0gw"
      },
      "source": [
        "**5. Features & Benefits**\n",
        "\n",
        "AI-driven hypothesis refinement for better results.\n",
        "\n",
        "Avoids redundant searches using memory storage.\n",
        "\n",
        "Real-time web data extraction ensures latest information.\n",
        "\n",
        "Visualization of ranking trends to track improvements.\n",
        "\n",
        "Multi-cycle iterative learning improves research accuracy."
      ]
    }
  ],
  "metadata": {
    "colab": {
      "provenance": [],
      "include_colab_link": true
    },
    "kernelspec": {
      "display_name": "Python 3",
      "name": "python3"
    },
    "language_info": {
      "name": "python"
    }
  },
  "nbformat": 4,
  "nbformat_minor": 0
}